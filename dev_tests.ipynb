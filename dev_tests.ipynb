{
 "cells": [
  {
   "cell_type": "code",
   "execution_count": null,
   "metadata": {},
   "outputs": [],
   "source": [
    "from xmm.preprocess._expr2ast import expr2ast\n",
    "from xmm.preprocess._ast2sympy import ast2sympy\n",
    "\n",
    "\n",
    "def main(expression):\n",
    "    # Parse the expression into an AST\n",
    "    ast_tree = expr2ast(expression)\n",
    "\n",
    "    # Create SymPy expression from the AST\n",
    "    sympy_expr = ast2sympy(ast_tree)\n",
    "\n",
    "    print(\"SymPy expression:\", sympy_expr)\n",
    "\n",
    "    return sympy_expr\n",
    "\n",
    "# Example usage\n",
    "expression = \"c1 * (c2 * c2 * (r1 + c3) * (r1 + c3) - 1) * exp(-0.5 * (r1 * r1 * c2 * c2))\"\n",
    "expr = main(expression)\n",
    "expr"
   ]
  },
  {
   "cell_type": "code",
   "execution_count": null,
   "metadata": {},
   "outputs": [],
   "source": [
    "from xmm.preprocess._ast2CUDAexpr import ast2CUDAexpr\n",
    "\n",
    "def main_taichi(expression):\n",
    "    # Parse the expression into an AST\n",
    "    ast_tree = expr2ast(expression)\n",
    "\n",
    "    # Convert the AST directly to a Taichi expression string\n",
    "    taichi_expr = ast2CUDAexpr(ast_tree.body)\n",
    "\n",
    "    print(\"CUDA expression:\", taichi_expr)\n",
    "\n",
    "    return taichi_expr\n",
    "\n",
    "# Example usage\n",
    "expression = \"log(c1 * (c2 * c2 * (r1 + c3)) * atan2(r1 + c3, c2) - 1) * exp(-0.5 * (r1 * r1 * c2 * c2))\"\n",
    "taichi_expr = main_taichi(expression)"
   ]
  },
  {
   "cell_type": "code",
   "execution_count": null,
   "metadata": {},
   "outputs": [],
   "source": [
    "from xmm.preprocess._sympy2ast import sympy2ast\n",
    "import astor\n",
    "\n",
    "# Replacing the main function to include conversion back to AST\n",
    "def around(expression):\n",
    "    # Parse the expression into an AST\n",
    "    ast_tree = expr2ast(expression)\n",
    "\n",
    "    # Create SymPy expression from the AST\n",
    "    sympy_expr = ast2sympy(ast_tree)\n",
    "\n",
    "    # print(\"SymPy expression:\", sympy_expr)\n",
    "\n",
    "    # Convert the SymPy expression back to AST\n",
    "    new_ast_tree = sympy2ast(sympy_expr)\n",
    "    # print('\\n'+'*'*50+'\\n')\n",
    "    # print(\"Reconstructed AST:\", ast.dump(new_ast_tree, indent=4))\n",
    "    # print('\\n'+'*'*50+'\\n')\n",
    "\n",
    "    # Use astor.to_source to convert the AST back to a string\n",
    "    expression_str = astor.to_source(new_ast_tree)\n",
    "\n",
    "    print(\"Reconstructed Expression String:\", expression_str.strip())\n",
    "\n",
    "    return new_ast_tree\n",
    "\n",
    "# Example usage\n",
    "expression = \"c1 * (c2 * c2 * (r1 + c3) * (r1 + c3) - 1) * atan2(-0.5 * (r1 * r1 * c2 * c2), c1)\"\n",
    "new_ast = around(expression)"
   ]
  },
  {
   "cell_type": "code",
   "execution_count": null,
   "metadata": {},
   "outputs": [],
   "source": [
    "from xmm.codegen.codegen import generate_expr\n",
    "# Example usage\n",
    "expression = \"c1 * (c2 * c2 * (r1 + c3) * (r1 + c3) - 1) * atan2(-0.5 * (r1 * r1 * c2 * c2), c1)\"\n",
    "taichi_expr, taichi_derivatives = generate_expr(expression)\n",
    "\n",
    "print('\\n'+'*'*50+'\\n')\n",
    "\n",
    "print(\"Original CUDA Expression:\\n\", taichi_expr)\n",
    "print(\"CUDA Derivatives:\")\n",
    "for var, expr in taichi_derivatives.items():\n",
    "    print(f\"d/d{var}:\", expr)"
   ]
  },
  {
   "cell_type": "code",
   "execution_count": null,
   "metadata": {},
   "outputs": [],
   "source": [
    "from xmm.codegen.codegen import generate_operator_source\n",
    "\n",
    "a, b = generate_operator_source(1, 3, \"c1 * (c2 * c2 * (r1 + c3) * (r1 + c3) - 1) * atan2(-0.5 * (r1 * r1 * c2 * c2), c1)\")\n",
    "print(b)"
   ]
  },
  {
   "cell_type": "markdown",
   "metadata": {},
   "source": [
    "## Example Main"
   ]
  },
  {
   "cell_type": "code",
   "execution_count": null,
   "metadata": {},
   "outputs": [],
   "source": [
    "from xmm.SumOperator import SumOperator\n",
    "import torch\n",
    "\n",
    "op = SumOperator(1, 3, \"0.867325070 * c3 * (c1 * c1 * (r1 + c2) * (r1 + c2) - 1) * exp(-0.5 * c1 * c1 * (r1 + c2) * (r1 + c2))\")\n",
    "op.compile()\n"
   ]
  },
  {
   "cell_type": "code",
   "execution_count": 45,
   "metadata": {},
   "outputs": [
    {
     "name": "stdout",
     "output_type": "stream",
     "text": [
      "tensor([[-0.3832, -1.1263, -2.8932,  ...,  7.3758, -5.1120,  1.2537],\n",
      "        [-1.8569,  1.8759,  2.7706,  ...,  0.3477,  1.3390, -1.2371],\n",
      "        [-2.5918, -2.4867,  3.5251,  ...,  5.5163, -4.5873,  2.8335],\n",
      "        ...,\n",
      "        [ 4.0604,  0.2948,  2.7115,  ...,  3.9962, -6.0438,  6.3948],\n",
      "        [ 1.6745,  0.4129,  2.2036,  ...,  5.3293, -3.4070,  1.0890],\n",
      "        [ 2.4895,  0.6932,  4.4876,  ...,  4.4679, -3.9333,  1.3650]],\n",
      "       device='cuda:0')\n",
      "tensor([[-0.3832, -1.1263, -2.8932,  ...,  7.3758, -5.1120,  1.2537],\n",
      "        [-1.8569,  1.8759,  2.7706,  ...,  0.3477,  1.3390, -1.2371],\n",
      "        [-2.5918, -2.4867,  3.5251,  ...,  5.5163, -4.5873,  2.8335],\n",
      "        ...,\n",
      "        [ 4.0604,  0.2948,  2.7115,  ...,  3.9962, -6.0438,  6.3948],\n",
      "        [ 1.6745,  0.4129,  2.2036,  ...,  5.3293, -3.4070,  1.0890],\n",
      "        [ 2.4895,  0.6932,  4.4876,  ...,  4.4679, -3.9333,  1.3650]],\n",
      "       device='cuda:0')\n",
      "tensor(-0.3832, device='cuda:0')\n"
     ]
    }
   ],
   "source": [
    "import torch\n",
    "device = torch.device('cuda:0')\n",
    "\n",
    "M, N, K = 128, 42, 62\n",
    "a = torch.randn(M, K).to(device)\n",
    "b = torch.randn(N, K).to(device)\n",
    "c = torch.randn(N, K).to(device)\n",
    "d = torch.randn(N, K).to(device)\n",
    "\n",
    "\n",
    "opf = op.forward(a, b, c, d)\n",
    "print(opf)\n",
    "import wavkan.wavelet\n",
    "print(wavkan.wavelet.mexhat_wavelet(a, b, c, d))\n",
    "from math import exp\n",
    "res = 0\n",
    "for k in range(K):\n",
    "    res += d[0, k] * ((b[0, k] ** 2) * ((a[0, k] + c[0, k]) ** 2) - 1) * exp(-0.5 * (b[0, k] ** 2) * ((a[0, k] + c[0, k]) ** 2))\n",
    "print(res * 0.867325070)"
   ]
  },
  {
   "cell_type": "code",
   "execution_count": null,
   "metadata": {},
   "outputs": [],
   "source": []
  },
  {
   "cell_type": "code",
   "execution_count": null,
   "metadata": {},
   "outputs": [],
   "source": []
  },
  {
   "cell_type": "code",
   "execution_count": null,
   "metadata": {},
   "outputs": [],
   "source": []
  },
  {
   "cell_type": "code",
   "execution_count": null,
   "metadata": {},
   "outputs": [],
   "source": []
  },
  {
   "cell_type": "code",
   "execution_count": null,
   "metadata": {},
   "outputs": [],
   "source": []
  },
  {
   "cell_type": "code",
   "execution_count": null,
   "metadata": {},
   "outputs": [],
   "source": []
  },
  {
   "cell_type": "code",
   "execution_count": null,
   "metadata": {},
   "outputs": [],
   "source": []
  },
  {
   "cell_type": "code",
   "execution_count": null,
   "metadata": {},
   "outputs": [],
   "source": []
  },
  {
   "cell_type": "code",
   "execution_count": null,
   "metadata": {},
   "outputs": [],
   "source": []
  },
  {
   "cell_type": "code",
   "execution_count": null,
   "metadata": {},
   "outputs": [],
   "source": []
  },
  {
   "cell_type": "code",
   "execution_count": null,
   "metadata": {},
   "outputs": [],
   "source": []
  },
  {
   "cell_type": "code",
   "execution_count": null,
   "metadata": {},
   "outputs": [],
   "source": []
  },
  {
   "cell_type": "code",
   "execution_count": null,
   "metadata": {},
   "outputs": [],
   "source": []
  },
  {
   "cell_type": "code",
   "execution_count": null,
   "metadata": {},
   "outputs": [],
   "source": []
  },
  {
   "cell_type": "code",
   "execution_count": null,
   "metadata": {},
   "outputs": [],
   "source": []
  },
  {
   "cell_type": "code",
   "execution_count": null,
   "metadata": {},
   "outputs": [],
   "source": []
  },
  {
   "cell_type": "code",
   "execution_count": null,
   "metadata": {},
   "outputs": [],
   "source": []
  },
  {
   "cell_type": "code",
   "execution_count": null,
   "metadata": {},
   "outputs": [],
   "source": []
  },
  {
   "cell_type": "code",
   "execution_count": null,
   "metadata": {},
   "outputs": [],
   "source": []
  },
  {
   "cell_type": "code",
   "execution_count": null,
   "metadata": {},
   "outputs": [],
   "source": []
  },
  {
   "cell_type": "code",
   "execution_count": null,
   "metadata": {},
   "outputs": [],
   "source": []
  },
  {
   "cell_type": "code",
   "execution_count": null,
   "metadata": {},
   "outputs": [],
   "source": []
  },
  {
   "cell_type": "code",
   "execution_count": null,
   "metadata": {},
   "outputs": [],
   "source": []
  },
  {
   "cell_type": "code",
   "execution_count": null,
   "metadata": {},
   "outputs": [],
   "source": []
  },
  {
   "cell_type": "code",
   "execution_count": null,
   "metadata": {},
   "outputs": [],
   "source": []
  }
 ],
 "metadata": {
  "kernelspec": {
   "display_name": "playground",
   "language": "python",
   "name": "python3"
  },
  "language_info": {
   "codemirror_mode": {
    "name": "ipython",
    "version": 3
   },
   "file_extension": ".py",
   "mimetype": "text/x-python",
   "name": "python",
   "nbconvert_exporter": "python",
   "pygments_lexer": "ipython3",
   "version": "3.10.13"
  }
 },
 "nbformat": 4,
 "nbformat_minor": 2
}
