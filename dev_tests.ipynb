{
 "cells": [
  {
   "cell_type": "code",
   "execution_count": null,
   "metadata": {},
   "outputs": [],
   "source": [
    "from xmm.preprocess._expr2ast import expr2ast\n",
    "from xmm.preprocess._ast2sympy import ast2sympy\n",
    "\n",
    "\n",
    "def main(expression):\n",
    "    # Parse the expression into an AST\n",
    "    ast_tree = expr2ast(expression)\n",
    "\n",
    "    # Create SymPy expression from the AST\n",
    "    sympy_expr = ast2sympy(ast_tree)\n",
    "\n",
    "    print(\"SymPy expression:\", sympy_expr)\n",
    "\n",
    "    return sympy_expr\n",
    "\n",
    "# Example usage\n",
    "expression = \"c1 * (c2 * c2 * (r1 + c3) * (r1 + c3) - 1) * exp(-0.5 * (r1 * r1 * c2 * c2))\"\n",
    "expr = main(expression)\n",
    "expr"
   ]
  },
  {
   "cell_type": "code",
   "execution_count": null,
   "metadata": {},
   "outputs": [],
   "source": [
    "from xmm.preprocess._ast2CUDAexpr import ast2CUDAexpr\n",
    "\n",
    "def main_taichi(expression):\n",
    "    # Parse the expression into an AST\n",
    "    ast_tree = expr2ast(expression)\n",
    "\n",
    "    # Convert the AST directly to a Taichi expression string\n",
    "    taichi_expr = ast2CUDAexpr(ast_tree.body)\n",
    "\n",
    "    print(\"CUDA expression:\", taichi_expr)\n",
    "\n",
    "    return taichi_expr\n",
    "\n",
    "# Example usage\n",
    "expression = \"log(c1 * (c2 * c2 * (r1 + c3)) * atan2(r1 + c3, c2) - 1) * exp(-0.5 * (r1 * r1 * c2 * c2))\"\n",
    "taichi_expr = main_taichi(expression)"
   ]
  },
  {
   "cell_type": "code",
   "execution_count": null,
   "metadata": {},
   "outputs": [],
   "source": [
    "from xmm.preprocess._sympy2ast import sympy2ast\n",
    "import astor\n",
    "\n",
    "# Replacing the main function to include conversion back to AST\n",
    "def around(expression):\n",
    "    # Parse the expression into an AST\n",
    "    ast_tree = expr2ast(expression)\n",
    "\n",
    "    # Create SymPy expression from the AST\n",
    "    sympy_expr = ast2sympy(ast_tree)\n",
    "\n",
    "    # print(\"SymPy expression:\", sympy_expr)\n",
    "\n",
    "    # Convert the SymPy expression back to AST\n",
    "    new_ast_tree = sympy2ast(sympy_expr)\n",
    "    # print('\\n'+'*'*50+'\\n')\n",
    "    # print(\"Reconstructed AST:\", ast.dump(new_ast_tree, indent=4))\n",
    "    # print('\\n'+'*'*50+'\\n')\n",
    "\n",
    "    # Use astor.to_source to convert the AST back to a string\n",
    "    expression_str = astor.to_source(new_ast_tree)\n",
    "\n",
    "    print(\"Reconstructed Expression String:\", expression_str.strip())\n",
    "\n",
    "    return new_ast_tree\n",
    "\n",
    "# Example usage\n",
    "expression = \"c1 * (c2 * c2 * (r1 + c3) * (r1 + c3) - 1) * atan2(-0.5 * (r1 * r1 * c2 * c2), c1)\"\n",
    "new_ast = around(expression)"
   ]
  },
  {
   "cell_type": "code",
   "execution_count": null,
   "metadata": {},
   "outputs": [],
   "source": [
    "from xmm.codegen.codegen import generate_expr\n",
    "# Example usage\n",
    "expression = \"c1 * (c2 * c2 * (r1 + c3) * (r1 + c3) - 1) * atan2(-0.5 * (r1 * r1 * c2 * c2), c1)\"\n",
    "taichi_expr, taichi_derivatives = generate_expr(expression)\n",
    "\n",
    "print('\\n'+'*'*50+'\\n')\n",
    "\n",
    "print(\"Original CUDA Expression:\\n\", taichi_expr)\n",
    "print(\"CUDA Derivatives:\")\n",
    "for var, expr in taichi_derivatives.items():\n",
    "    print(f\"d/d{var}:\", expr)"
   ]
  },
  {
   "cell_type": "code",
   "execution_count": null,
   "metadata": {},
   "outputs": [],
   "source": [
    "from xmm.codegen.codegen import generate_operator_source\n",
    "\n",
    "a, b = generate_operator_source(1, 3, \"c1 * (c2 * c2 * (r1 + c3) * (r1 + c3) - 1) * atan2(-0.5 * (r1 * r1 * c2 * c2), c1)\")\n",
    "print(b)"
   ]
  },
  {
   "cell_type": "markdown",
   "metadata": {},
   "source": [
    "## Example Main"
   ]
  },
  {
   "cell_type": "code",
   "execution_count": null,
   "metadata": {},
   "outputs": [],
   "source": [
    "from xmm.SumOperator import SumOperator\n",
    "import torch\n",
    "\n",
    "op = SumOperator(1, 3, \"c1 * (c2 * c2 * (r1 + c3) * (r1 + c3) - 1) * atan2(-0.5 * (r1 * r1 * c2 * c1),c1 * c2)\")\n",
    "op.compile(identifier='testop_h934nvewq230g9')\n"
   ]
  },
  {
   "cell_type": "code",
   "execution_count": 130,
   "metadata": {},
   "outputs": [
    {
     "name": "stdout",
     "output_type": "stream",
     "text": [
      "tensor(-77.4010, device='cuda:0')\n",
      "tensor(-77.4010, device='cuda:0')\n",
      "tensor(7.6294e-06, device='cuda:0')\n"
     ]
    }
   ],
   "source": [
    "import torch\n",
    "device = torch.device('cuda:0')\n",
    "\n",
    "M, N, K = 128, 42, 62\n",
    "r1 = torch.randn(M, K).to(device)\n",
    "c1 = torch.randn(N, K).to(device)\n",
    "c2 = torch.randn(N, K).to(device)\n",
    "c3 = torch.randn(N, K).to(device)\n",
    "\n",
    "\n",
    "index = 15\n",
    "opf = op.forward(r1,c1,c2,c3)\n",
    "print(opf[index, index])\n",
    "# import wavkan.wavelet\n",
    "# print(wavkan.wavelet.mexhat_wavelet(r1,c1,c2,c3))\n",
    "from math import cos, atan2\n",
    "res = 0\n",
    "for k in range(K):\n",
    "    res += c1[index,k] * (c2[index,k] * c2[index,k] * (r1[index,k] + c3[index,k]) * (r1[index,k] + c3[index,k]) - 1) * \\\n",
    "    atan2(-0.5 * (r1[index,k] * r1[index,k] * c2[index,k] * c1[index,k]),c2[index,k] * c1[index,k])\n",
    "print(res)\n",
    "print(abs(res-opf[index, index]))"
   ]
  },
  {
   "cell_type": "code",
   "execution_count": null,
   "metadata": {},
   "outputs": [],
   "source": []
  },
  {
   "cell_type": "code",
   "execution_count": null,
   "metadata": {},
   "outputs": [],
   "source": []
  },
  {
   "cell_type": "code",
   "execution_count": null,
   "metadata": {},
   "outputs": [],
   "source": []
  },
  {
   "cell_type": "code",
   "execution_count": null,
   "metadata": {},
   "outputs": [],
   "source": []
  },
  {
   "cell_type": "code",
   "execution_count": null,
   "metadata": {},
   "outputs": [],
   "source": []
  },
  {
   "cell_type": "code",
   "execution_count": null,
   "metadata": {},
   "outputs": [],
   "source": []
  },
  {
   "cell_type": "code",
   "execution_count": null,
   "metadata": {},
   "outputs": [],
   "source": []
  },
  {
   "cell_type": "code",
   "execution_count": null,
   "metadata": {},
   "outputs": [],
   "source": []
  },
  {
   "cell_type": "code",
   "execution_count": null,
   "metadata": {},
   "outputs": [],
   "source": []
  },
  {
   "cell_type": "code",
   "execution_count": null,
   "metadata": {},
   "outputs": [],
   "source": []
  },
  {
   "cell_type": "code",
   "execution_count": null,
   "metadata": {},
   "outputs": [],
   "source": []
  },
  {
   "cell_type": "code",
   "execution_count": null,
   "metadata": {},
   "outputs": [],
   "source": []
  },
  {
   "cell_type": "code",
   "execution_count": null,
   "metadata": {},
   "outputs": [],
   "source": []
  },
  {
   "cell_type": "code",
   "execution_count": null,
   "metadata": {},
   "outputs": [],
   "source": []
  },
  {
   "cell_type": "code",
   "execution_count": null,
   "metadata": {},
   "outputs": [],
   "source": []
  },
  {
   "cell_type": "code",
   "execution_count": null,
   "metadata": {},
   "outputs": [],
   "source": []
  },
  {
   "cell_type": "code",
   "execution_count": null,
   "metadata": {},
   "outputs": [],
   "source": []
  },
  {
   "cell_type": "code",
   "execution_count": null,
   "metadata": {},
   "outputs": [],
   "source": []
  },
  {
   "cell_type": "code",
   "execution_count": null,
   "metadata": {},
   "outputs": [],
   "source": []
  },
  {
   "cell_type": "code",
   "execution_count": null,
   "metadata": {},
   "outputs": [],
   "source": []
  },
  {
   "cell_type": "code",
   "execution_count": null,
   "metadata": {},
   "outputs": [],
   "source": []
  },
  {
   "cell_type": "code",
   "execution_count": null,
   "metadata": {},
   "outputs": [],
   "source": []
  },
  {
   "cell_type": "code",
   "execution_count": null,
   "metadata": {},
   "outputs": [],
   "source": []
  },
  {
   "cell_type": "code",
   "execution_count": null,
   "metadata": {},
   "outputs": [],
   "source": []
  },
  {
   "cell_type": "code",
   "execution_count": null,
   "metadata": {},
   "outputs": [],
   "source": []
  }
 ],
 "metadata": {
  "kernelspec": {
   "display_name": "playground",
   "language": "python",
   "name": "python3"
  },
  "language_info": {
   "codemirror_mode": {
    "name": "ipython",
    "version": 3
   },
   "file_extension": ".py",
   "mimetype": "text/x-python",
   "name": "python",
   "nbconvert_exporter": "python",
   "pygments_lexer": "ipython3",
   "version": "3.10.13"
  }
 },
 "nbformat": 4,
 "nbformat_minor": 2
}
